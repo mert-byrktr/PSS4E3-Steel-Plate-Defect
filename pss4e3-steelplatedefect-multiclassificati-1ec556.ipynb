{
 "cells": [
  {
   "cell_type": "markdown",
   "id": "4c3fd722",
   "metadata": {
    "papermill": {
     "duration": 0.006711,
     "end_time": "2024-03-07T14:45:29.952463",
     "exception": false,
     "start_time": "2024-03-07T14:45:29.945752",
     "status": "completed"
    },
    "tags": []
   },
   "source": [
    "# 4. Setting Up"
   ]
  },
  {
   "cell_type": "code",
   "execution_count": 1,
   "id": "8be0c51c",
   "metadata": {
    "_cell_guid": "b1076dfc-b9ad-4769-8c92-a6c4dae69d19",
    "_uuid": "8f2839f25d086af736a60e9eeb907d3b93b6e0e5",
    "execution": {
     "iopub.execute_input": "2024-03-07T14:45:29.966468Z",
     "iopub.status.busy": "2024-03-07T14:45:29.966102Z",
     "iopub.status.idle": "2024-03-07T14:45:48.284652Z",
     "shell.execute_reply": "2024-03-07T14:45:48.283806Z"
    },
    "papermill": {
     "duration": 18.328076,
     "end_time": "2024-03-07T14:45:48.286902",
     "exception": false,
     "start_time": "2024-03-07T14:45:29.958826",
     "status": "completed"
    },
    "tags": []
   },
   "outputs": [
    {
     "name": "stderr",
     "output_type": "stream",
     "text": [
      "2024-03-07 14:45:38.613684: E external/local_xla/xla/stream_executor/cuda/cuda_dnn.cc:9261] Unable to register cuDNN factory: Attempting to register factory for plugin cuDNN when one has already been registered\n",
      "2024-03-07 14:45:38.613779: E external/local_xla/xla/stream_executor/cuda/cuda_fft.cc:607] Unable to register cuFFT factory: Attempting to register factory for plugin cuFFT when one has already been registered\n",
      "2024-03-07 14:45:38.737213: E external/local_xla/xla/stream_executor/cuda/cuda_blas.cc:1515] Unable to register cuBLAS factory: Attempting to register factory for plugin cuBLAS when one has already been registered\n"
     ]
    }
   ],
   "source": [
    "import warnings\n",
    "warnings.filterwarnings(\"ignore\")\n",
    "\n",
    "import numpy as np, pandas as pd\n",
    "import matplotlib.pyplot as plt\n",
    "import seaborn as sns\n",
    "from sklearn.pipeline import make_pipeline, Pipeline\n",
    "from sklearn.preprocessing import StandardScaler, MinMaxScaler\n",
    "from category_encoders import OneHotEncoder, CatBoostEncoder, MEstimateEncoder\n",
    "from sklearn.model_selection import StratifiedGroupKFold\n",
    "\n",
    "\n",
    "from xgboost import XGBClassifier\n",
    "from catboost import CatBoostClassifier\n",
    "from lightgbm import LGBMClassifier\n",
    "from sklearn.ensemble import StackingClassifier, RandomForestClassifier, HistGradientBoostingClassifier\n",
    "from sklearn.linear_model import RidgeClassifier, LogisticRegression\n",
    "\n",
    "from sklearn import set_config\n",
    "import os\n",
    "from sklearn.preprocessing import FunctionTransformer\n",
    "from sklearn.model_selection import StratifiedKFold\n",
    "from sklearn.compose import ColumnTransformer\n",
    "from prettytable import PrettyTable\n",
    "\n",
    "from sklearn.compose import make_column_transformer\n",
    "from sklearn.base import clone\n",
    "from sklearn.base import BaseEstimator, TransformerMixin\n",
    "from sklearn.metrics import accuracy_score\n",
    "from sklearn.metrics import confusion_matrix, ConfusionMatrixDisplay\n",
    "\n",
    "from optuna.samplers import TPESampler\n",
    "import optuna\n",
    "pd.set_option(\"display.max_rows\",100)\n",
    "\n",
    "import tensorflow as tf\n",
    "import random as rn\n",
    "os.environ['PYTHONHASHSEED'] = '89'\n",
    "rn.seed(89)"
   ]
  },
  {
   "cell_type": "code",
   "execution_count": 2,
   "id": "54bb7a90",
   "metadata": {
    "execution": {
     "iopub.execute_input": "2024-03-07T14:45:48.301033Z",
     "iopub.status.busy": "2024-03-07T14:45:48.300336Z",
     "iopub.status.idle": "2024-03-07T14:45:48.305115Z",
     "shell.execute_reply": "2024-03-07T14:45:48.304263Z"
    },
    "papermill": {
     "duration": 0.013717,
     "end_time": "2024-03-07T14:45:48.307008",
     "exception": false,
     "start_time": "2024-03-07T14:45:48.293291",
     "status": "completed"
    },
    "tags": []
   },
   "outputs": [],
   "source": [
    "CFG = {\n",
    "    'RAND_SEED': 89,\n",
    "    'RF_ENABLED': True,\n",
    "    'LGB_ENABLED': True,\n",
    "    'XGB_ENABLED': True\n",
    "}"
   ]
  },
  {
   "cell_type": "code",
   "execution_count": 3,
   "id": "dc54dcfb",
   "metadata": {
    "execution": {
     "iopub.execute_input": "2024-03-07T14:45:48.320274Z",
     "iopub.status.busy": "2024-03-07T14:45:48.319958Z",
     "iopub.status.idle": "2024-03-07T14:45:48.572791Z",
     "shell.execute_reply": "2024-03-07T14:45:48.571706Z"
    },
    "papermill": {
     "duration": 0.262157,
     "end_time": "2024-03-07T14:45:48.575189",
     "exception": false,
     "start_time": "2024-03-07T14:45:48.313032",
     "status": "completed"
    },
    "tags": []
   },
   "outputs": [],
   "source": [
    "df_train = pd.read_csv('/kaggle/input/playground-series-s4e3/train.csv')\n",
    "df_original = pd.read_csv('/kaggle/input/steel-plates-faults/original_data.tsv', sep='\\t')\n",
    "df_test = pd.read_csv('/kaggle/input/playground-series-s4e3/test.csv')\n",
    "sample_submission = pd.read_csv('/kaggle/input/playground-series-s4e3/sample_submission.csv')"
   ]
  },
  {
   "cell_type": "code",
   "execution_count": 4,
   "id": "f3c414fa",
   "metadata": {
    "execution": {
     "iopub.execute_input": "2024-03-07T14:45:48.589154Z",
     "iopub.status.busy": "2024-03-07T14:45:48.588836Z",
     "iopub.status.idle": "2024-03-07T14:45:48.643523Z",
     "shell.execute_reply": "2024-03-07T14:45:48.642514Z"
    },
    "papermill": {
     "duration": 0.064158,
     "end_time": "2024-03-07T14:45:48.645830",
     "exception": false,
     "start_time": "2024-03-07T14:45:48.581672",
     "status": "completed"
    },
    "tags": []
   },
   "outputs": [],
   "source": [
    "df_train.drop(columns='id', axis=1, inplace=True)\n",
    "df_test.drop(columns='id', axis=1, inplace=True)\n",
    "df_train = pd.concat([df_train, df_original])\n",
    "df_train = df_train.drop_duplicates()\n",
    "df_test = df_test.drop_duplicates()\n",
    "\n",
    "target_cols = ['Pastry', 'Z_Scratch', 'K_Scatch', 'Stains', 'Dirtiness', 'Bumps', 'Other_Faults']"
   ]
  },
  {
   "cell_type": "markdown",
   "id": "59b1edee",
   "metadata": {
    "papermill": {
     "duration": 0.005926,
     "end_time": "2024-03-07T14:45:48.657994",
     "exception": false,
     "start_time": "2024-03-07T14:45:48.652068",
     "status": "completed"
    },
    "tags": []
   },
   "source": [
    "# 5. EDA"
   ]
  },
  {
   "cell_type": "code",
   "execution_count": 5,
   "id": "f2310b57",
   "metadata": {
    "execution": {
     "iopub.execute_input": "2024-03-07T14:45:48.671256Z",
     "iopub.status.busy": "2024-03-07T14:45:48.670958Z",
     "iopub.status.idle": "2024-03-07T14:45:48.677181Z",
     "shell.execute_reply": "2024-03-07T14:45:48.676403Z"
    },
    "papermill": {
     "duration": 0.015222,
     "end_time": "2024-03-07T14:45:48.679264",
     "exception": false,
     "start_time": "2024-03-07T14:45:48.664042",
     "status": "completed"
    },
    "tags": []
   },
   "outputs": [],
   "source": [
    "X = df_train.loc[:, ~df_train.columns.isin(target_cols)]"
   ]
  },
  {
   "cell_type": "markdown",
   "id": "b43ab68d",
   "metadata": {
    "papermill": {
     "duration": 0.006107,
     "end_time": "2024-03-07T14:45:48.691676",
     "exception": false,
     "start_time": "2024-03-07T14:45:48.685569",
     "status": "completed"
    },
    "tags": []
   },
   "source": [
    "Let's see the correlation between features."
   ]
  },
  {
   "cell_type": "code",
   "execution_count": 6,
   "id": "6d4aeb4b",
   "metadata": {
    "execution": {
     "iopub.execute_input": "2024-03-07T14:45:48.704876Z",
     "iopub.status.busy": "2024-03-07T14:45:48.704536Z",
     "iopub.status.idle": "2024-03-07T14:45:48.752447Z",
     "shell.execute_reply": "2024-03-07T14:45:48.751481Z"
    },
    "papermill": {
     "duration": 0.05716,
     "end_time": "2024-03-07T14:45:48.754743",
     "exception": false,
     "start_time": "2024-03-07T14:45:48.697583",
     "status": "completed"
    },
    "tags": []
   },
   "outputs": [],
   "source": [
    "numerical_features = list(X._get_numeric_data())\n",
    "numeric_columns_train = df_train.loc[:, numerical_features]\n",
    "corr_train = numeric_columns_train.corr(method='pearson')\n",
    "mask_train = np.triu(np.ones_like(corr_train))"
   ]
  },
  {
   "cell_type": "markdown",
   "id": "ac856ac0",
   "metadata": {
    "papermill": {
     "duration": 0.006593,
     "end_time": "2024-03-07T14:45:48.768725",
     "exception": false,
     "start_time": "2024-03-07T14:45:48.762132",
     "status": "completed"
    },
    "tags": []
   },
   "source": [
    "# 6. Feature Engineering"
   ]
  },
  {
   "cell_type": "code",
   "execution_count": 7,
   "id": "4abd9681",
   "metadata": {
    "execution": {
     "iopub.execute_input": "2024-03-07T14:45:48.783085Z",
     "iopub.status.busy": "2024-03-07T14:45:48.782267Z",
     "iopub.status.idle": "2024-03-07T14:45:48.794567Z",
     "shell.execute_reply": "2024-03-07T14:45:48.793621Z"
    },
    "papermill": {
     "duration": 0.021577,
     "end_time": "2024-03-07T14:45:48.796668",
     "exception": false,
     "start_time": "2024-03-07T14:45:48.775091",
     "status": "completed"
    },
    "tags": []
   },
   "outputs": [],
   "source": [
    "def gen_features(x):\n",
    "    x_copy = x.copy()\n",
    "    #TODO\n",
    "    return x_copy\n",
    "  \n",
    "y = df_train[target_cols].reset_index(drop=True)\n",
    "X = df_train.loc[:, ~df_train.columns.isin(target_cols)].reset_index(drop = True)\n",
    "\n",
    "X = gen_features(X)\n",
    "\n",
    "numerical_features = list(X._get_numeric_data())\n",
    "categorical_features = list(X.drop(numerical_features, axis = 1))\n"
   ]
  },
  {
   "cell_type": "code",
   "execution_count": 8,
   "id": "177931ef",
   "metadata": {
    "execution": {
     "iopub.execute_input": "2024-03-07T14:45:48.810083Z",
     "iopub.status.busy": "2024-03-07T14:45:48.809506Z",
     "iopub.status.idle": "2024-03-07T14:45:48.908062Z",
     "shell.execute_reply": "2024-03-07T14:45:48.907053Z"
    },
    "papermill": {
     "duration": 0.107583,
     "end_time": "2024-03-07T14:45:48.910358",
     "exception": false,
     "start_time": "2024-03-07T14:45:48.802775",
     "status": "completed"
    },
    "tags": []
   },
   "outputs": [],
   "source": [
    "submission1=pd.read_csv(\"/kaggle/input/ps4e3-steel-plate-defect-prediction-multilabel/submission.csv\")\n",
    "submission2=pd.read_csv(\"/kaggle/input/playgrounds4e03-eda-binaryclassifier/Submission_V6.csv\")"
   ]
  },
  {
   "cell_type": "markdown",
   "id": "7eb53bb0",
   "metadata": {
    "papermill": {
     "duration": 0.006008,
     "end_time": "2024-03-07T14:45:48.922730",
     "exception": false,
     "start_time": "2024-03-07T14:45:48.916722",
     "status": "completed"
    },
    "tags": []
   },
   "source": [
    "# 7. Modeling"
   ]
  },
  {
   "cell_type": "code",
   "execution_count": 9,
   "id": "e6b991c0",
   "metadata": {
    "execution": {
     "iopub.execute_input": "2024-03-07T14:45:48.936457Z",
     "iopub.status.busy": "2024-03-07T14:45:48.935852Z",
     "iopub.status.idle": "2024-03-07T14:45:48.941215Z",
     "shell.execute_reply": "2024-03-07T14:45:48.940206Z"
    },
    "papermill": {
     "duration": 0.0143,
     "end_time": "2024-03-07T14:45:48.943121",
     "exception": false,
     "start_time": "2024-03-07T14:45:48.928821",
     "status": "completed"
    },
    "tags": []
   },
   "outputs": [],
   "source": [
    "# base_models = [\n",
    "#     ('rf', RandomForestClassifier(\n",
    "#         n_estimators=447,\n",
    "#         criterion='log_loss',\n",
    "#         min_samples_leaf=1,\n",
    "#         max_depth=89,\n",
    "#         min_samples_split=14,\n",
    "#         random_state=CFG['RAND_SEED']\n",
    "#     )),\n",
    "#     ('lgbm', LGBMClassifier(\n",
    "#         boosting_type='gbdt',\n",
    "#         objective='binary',\n",
    "#         metric='binary_logloss',\n",
    "#         verbose=-1,\n",
    "#         n_jobs=-1,\n",
    "#         n_estimators=360,\n",
    "#         learning_rate=0.014711360173380667,\n",
    "#         max_depth=9,\n",
    "#         num_leaves=14,\n",
    "#         subsample=0.9298697024017242,\n",
    "#         colsample_bytree=0.4674407784939409,\n",
    "#         reg_alpha=0.024561826257854576,\n",
    "#         reg_lambda=0.6162873552091974,\n",
    "#         min_split_gain=5.3196368061287076e-08,\n",
    "#         random_state=CFG['RAND_SEED'],\n",
    "#     )),\n",
    "#     ('xgb', XGBClassifier(\n",
    "#         n_estimators=500,\n",
    "#         learning_rate=0.1,\n",
    "#         max_depth=4,\n",
    "#         subsample=0.8,\n",
    "#         colsample_bytree=0.1,\n",
    "#         n_jobs=-1,\n",
    "#         eval_metric='logloss',\n",
    "#         objective='binary:logistic',\n",
    "#         tree_method='hist',\n",
    "#         verbosity=0,\n",
    "#         random_state=CFG['RAND_SEED'],\n",
    "#     ))\n",
    "# ]\n",
    "# meta_model = CatBoostClassifier()"
   ]
  },
  {
   "cell_type": "code",
   "execution_count": 10,
   "id": "b488024e",
   "metadata": {
    "execution": {
     "iopub.execute_input": "2024-03-07T14:45:48.956006Z",
     "iopub.status.busy": "2024-03-07T14:45:48.955728Z",
     "iopub.status.idle": "2024-03-07T14:45:48.959415Z",
     "shell.execute_reply": "2024-03-07T14:45:48.958679Z"
    },
    "papermill": {
     "duration": 0.012318,
     "end_time": "2024-03-07T14:45:48.961341",
     "exception": false,
     "start_time": "2024-03-07T14:45:48.949023",
     "status": "completed"
    },
    "tags": []
   },
   "outputs": [],
   "source": [
    "#     ('rf', RandomForestClassifier(\n",
    "#         n_estimators=447,\n",
    "#         criterion='log_loss',\n",
    "#         min_samples_leaf=1,\n",
    "#         max_depth=89,\n",
    "#         min_samples_split=14,\n",
    "#         random_state=CFG['RAND_SEED']\n",
    "#     )),"
   ]
  },
  {
   "cell_type": "code",
   "execution_count": 11,
   "id": "fedfa5bb",
   "metadata": {
    "execution": {
     "iopub.execute_input": "2024-03-07T14:45:48.974398Z",
     "iopub.status.busy": "2024-03-07T14:45:48.974123Z",
     "iopub.status.idle": "2024-03-07T14:45:48.979416Z",
     "shell.execute_reply": "2024-03-07T14:45:48.978592Z"
    },
    "papermill": {
     "duration": 0.013999,
     "end_time": "2024-03-07T14:45:48.981243",
     "exception": false,
     "start_time": "2024-03-07T14:45:48.967244",
     "status": "completed"
    },
    "tags": []
   },
   "outputs": [],
   "source": [
    "# #                           0.89610\n",
    "\n",
    "# base_models = [\n",
    "#     ('hgbc', HistGradientBoostingClassifier(\n",
    "#         loss='log_loss',\n",
    "#         learning_rate=0.06,\n",
    "#         max_iter=800,\n",
    "#         max_depth=6,\n",
    "#         min_samples_leaf=12,\n",
    "#         l2_regularization=1.15,\n",
    "#         validation_fraction=0.1,\n",
    "#         random_state=CFG['RAND_SEED']\n",
    "#     )),\n",
    "#     ('lgbm', LGBMClassifier(\n",
    "#         boosting_type='gbdt',\n",
    "#         objective='binary',\n",
    "#         metric='binary_logloss',\n",
    "#         verbose=-1,\n",
    "#         n_jobs=-1,\n",
    "#         learning_rate = 0.02,\n",
    "#         n_estimators=360,\n",
    "#         max_depth=8,\n",
    "#         num_leaves=14,\n",
    "#         subsample=0.20,\n",
    "#         colsample_bytree=0.56,\n",
    "#         reg_alpha=0.024561826257854576,\n",
    "#         reg_lambda=5e-08,\n",
    "#         min_split_gain=5.3196368061287076e-08,\n",
    "#         random_state=CFG['RAND_SEED'],\n",
    "#     )),\n",
    "#     ('xgb', XGBClassifier(\n",
    "#         n_estimators=494,\n",
    "#         learning_rate=0.109,\n",
    "#         max_depth=6,\n",
    "#         subsample=0.5943421542786502,\n",
    "#         colsample_bytree=0.5595039093313848,\n",
    "#         reg_alpha=1.5855453969671037e-06,\n",
    "#         reg_lambda=1.4155529076600075,\n",
    "#         min_child_weight=3,\n",
    "#         n_jobs=-1,\n",
    "#         eval_metric='logloss',\n",
    "#         objective='binary:logistic',\n",
    "#         tree_method='hist',\n",
    "#         verbosity=0,\n",
    "#         random_state=CFG['RAND_SEED'],\n",
    "#     ))\n",
    "# ]\n",
    "# meta_model = CatBoostClassifier(\n",
    "#     objective='Logloss',\n",
    "#     eval_metric='AUC',\n",
    "#     bagging_temperature=0.2,\n",
    "#     colsample_bylevel=0.85,\n",
    "#     iterations=2500,\n",
    "#     learning_rate=0.025,\n",
    "#     od_wait=10,\n",
    "#     max_depth=7,\n",
    "#     l2_leaf_reg=1.235,\n",
    "#     min_data_in_leaf=8,\n",
    "#     random_strength = 0.60,\n",
    "#     max_bin = 160,\n",
    "#     verbose=0,\n",
    "#     random_state=CFG['RAND_SEED']\n",
    "# )"
   ]
  },
  {
   "cell_type": "code",
   "execution_count": 12,
   "id": "21ea3607",
   "metadata": {
    "execution": {
     "iopub.execute_input": "2024-03-07T14:45:48.994111Z",
     "iopub.status.busy": "2024-03-07T14:45:48.993846Z",
     "iopub.status.idle": "2024-03-07T14:45:49.005595Z",
     "shell.execute_reply": "2024-03-07T14:45:49.004763Z"
    },
    "papermill": {
     "duration": 0.020383,
     "end_time": "2024-03-07T14:45:49.007513",
     "exception": false,
     "start_time": "2024-03-07T14:45:48.987130",
     "status": "completed"
    },
    "tags": []
   },
   "outputs": [],
   "source": [
    "base_models = [\n",
    "    ('hgbc', HistGradientBoostingClassifier(\n",
    "        loss='log_loss',\n",
    "        learning_rate=0.06,\n",
    "        max_iter=800,\n",
    "        max_depth=6,\n",
    "        min_samples_leaf=12,\n",
    "        l2_regularization=1.15,\n",
    "        validation_fraction=0.1,\n",
    "        random_state=CFG['RAND_SEED']\n",
    "    )),\n",
    "    ('lgbm', LGBMClassifier(\n",
    "        boosting_type='gbdt',\n",
    "        objective='binary',\n",
    "        metric='binary_logloss',\n",
    "        verbose=-1,\n",
    "        n_jobs=-1,\n",
    "        learning_rate = 0.02,\n",
    "        n_estimators=360,\n",
    "        max_depth=8,\n",
    "        num_leaves=14,\n",
    "        subsample=0.20,\n",
    "        colsample_bytree=0.56,\n",
    "        reg_alpha=0.024561826257854576,\n",
    "        reg_lambda=5e-08,\n",
    "        min_split_gain=5.3196368061287076e-08,\n",
    "        random_state=CFG['RAND_SEED'],\n",
    "    )),\n",
    "    ('xgb', XGBClassifier(\n",
    "        n_estimators=494,\n",
    "        learning_rate=0.109,\n",
    "        max_depth=6,\n",
    "        subsample=0.5943421542786502,\n",
    "        colsample_bytree=0.5595039093313848,\n",
    "        reg_alpha=1.5855453969671037e-06,\n",
    "        reg_lambda=1.4155529076600075,\n",
    "        min_child_weight=3,\n",
    "        n_jobs=-1,\n",
    "        eval_metric='logloss',\n",
    "        objective='binary:logistic',\n",
    "        tree_method='hist',\n",
    "        verbosity=0,\n",
    "        random_state=CFG['RAND_SEED'],\n",
    "    ))\n",
    "]\n",
    "meta_model = CatBoostClassifier(\n",
    "    objective='Logloss',\n",
    "    eval_metric='AUC',\n",
    "    bagging_temperature=0.2,\n",
    "    colsample_bylevel=0.85,\n",
    "    iterations=2500,\n",
    "    learning_rate=0.025,\n",
    "    od_wait=10,\n",
    "    max_depth=7,\n",
    "    l2_leaf_reg=1.235,\n",
    "    min_data_in_leaf=8,\n",
    "    random_strength = 0.60,\n",
    "    max_bin = 160,\n",
    "    verbose=0,\n",
    "    random_state=CFG['RAND_SEED']\n",
    ")"
   ]
  },
  {
   "cell_type": "code",
   "execution_count": 13,
   "id": "d787589b",
   "metadata": {
    "execution": {
     "iopub.execute_input": "2024-03-07T14:45:49.021072Z",
     "iopub.status.busy": "2024-03-07T14:45:49.020814Z",
     "iopub.status.idle": "2024-03-07T14:49:23.131712Z",
     "shell.execute_reply": "2024-03-07T14:49:23.130599Z"
    },
    "papermill": {
     "duration": 214.120577,
     "end_time": "2024-03-07T14:49:23.134156",
     "exception": false,
     "start_time": "2024-03-07T14:45:49.013579",
     "status": "completed"
    },
    "tags": []
   },
   "outputs": [],
   "source": [
    "models = []\n",
    "predictions_proba = pd.DataFrame()\n",
    "\n",
    "for target_col in target_cols:\n",
    "    stacking_model = StackingClassifier(estimators=base_models, final_estimator=meta_model)\n",
    "    stacking_model.fit(X, y[target_col])\n",
    "    \n",
    "    models.append(stacking_model)\n",
    "    \n",
    "    predictions_proba[target_col] = stacking_model.predict_proba(df_test)[:, 1]"
   ]
  },
  {
   "cell_type": "markdown",
   "id": "d878101c",
   "metadata": {
    "papermill": {
     "duration": 0.005986,
     "end_time": "2024-03-07T14:49:23.146555",
     "exception": false,
     "start_time": "2024-03-07T14:49:23.140569",
     "status": "completed"
    },
    "tags": []
   },
   "source": [
    "# 8. Submission"
   ]
  },
  {
   "cell_type": "code",
   "execution_count": 14,
   "id": "64d32e45",
   "metadata": {
    "execution": {
     "iopub.execute_input": "2024-03-07T14:49:23.161256Z",
     "iopub.status.busy": "2024-03-07T14:49:23.160924Z",
     "iopub.status.idle": "2024-03-07T14:49:23.366469Z",
     "shell.execute_reply": "2024-03-07T14:49:23.365705Z"
    },
    "papermill": {
     "duration": 0.215464,
     "end_time": "2024-03-07T14:49:23.368949",
     "exception": false,
     "start_time": "2024-03-07T14:49:23.153485",
     "status": "completed"
    },
    "tags": []
   },
   "outputs": [],
   "source": [
    "submission = predictions_proba\n",
    "for target_col in target_cols:\n",
    "    submission[target_col] = 0.1*submission[target_col] + 0.6*submission1[target_col] + 0.3*submission2[target_col]\n",
    "#     submission[target_col] = 0.1 * submission[target_col] + 0.9 * submission2[target_col]\n",
    "submission.insert(0, 'id', sample_submission['id'])\n",
    "\n",
    "submission.to_csv('Submission.csv', index=False)"
   ]
  },
  {
   "cell_type": "code",
   "execution_count": 15,
   "id": "b6fbe1eb",
   "metadata": {
    "execution": {
     "iopub.execute_input": "2024-03-07T14:49:23.382511Z",
     "iopub.status.busy": "2024-03-07T14:49:23.382211Z",
     "iopub.status.idle": "2024-03-07T14:49:23.399669Z",
     "shell.execute_reply": "2024-03-07T14:49:23.398805Z"
    },
    "papermill": {
     "duration": 0.026532,
     "end_time": "2024-03-07T14:49:23.401783",
     "exception": false,
     "start_time": "2024-03-07T14:49:23.375251",
     "status": "completed"
    },
    "tags": []
   },
   "outputs": [
    {
     "data": {
      "text/html": [
       "<div>\n",
       "<style scoped>\n",
       "    .dataframe tbody tr th:only-of-type {\n",
       "        vertical-align: middle;\n",
       "    }\n",
       "\n",
       "    .dataframe tbody tr th {\n",
       "        vertical-align: top;\n",
       "    }\n",
       "\n",
       "    .dataframe thead th {\n",
       "        text-align: right;\n",
       "    }\n",
       "</style>\n",
       "<table border=\"1\" class=\"dataframe\">\n",
       "  <thead>\n",
       "    <tr style=\"text-align: right;\">\n",
       "      <th></th>\n",
       "      <th>id</th>\n",
       "      <th>Pastry</th>\n",
       "      <th>Z_Scratch</th>\n",
       "      <th>K_Scatch</th>\n",
       "      <th>Stains</th>\n",
       "      <th>Dirtiness</th>\n",
       "      <th>Bumps</th>\n",
       "      <th>Other_Faults</th>\n",
       "    </tr>\n",
       "  </thead>\n",
       "  <tbody>\n",
       "    <tr>\n",
       "      <th>0</th>\n",
       "      <td>19219</td>\n",
       "      <td>0.496132</td>\n",
       "      <td>0.003192</td>\n",
       "      <td>0.006726</td>\n",
       "      <td>0.019481</td>\n",
       "      <td>0.017171</td>\n",
       "      <td>0.136127</td>\n",
       "      <td>0.334557</td>\n",
       "    </tr>\n",
       "    <tr>\n",
       "      <th>1</th>\n",
       "      <td>19220</td>\n",
       "      <td>0.257812</td>\n",
       "      <td>0.022915</td>\n",
       "      <td>0.015582</td>\n",
       "      <td>0.024177</td>\n",
       "      <td>0.171033</td>\n",
       "      <td>0.149404</td>\n",
       "      <td>0.350470</td>\n",
       "    </tr>\n",
       "    <tr>\n",
       "      <th>2</th>\n",
       "      <td>19221</td>\n",
       "      <td>0.005099</td>\n",
       "      <td>0.035220</td>\n",
       "      <td>0.042575</td>\n",
       "      <td>0.027299</td>\n",
       "      <td>0.008078</td>\n",
       "      <td>0.316043</td>\n",
       "      <td>0.536475</td>\n",
       "    </tr>\n",
       "    <tr>\n",
       "      <th>3</th>\n",
       "      <td>19222</td>\n",
       "      <td>0.114418</td>\n",
       "      <td>0.005752</td>\n",
       "      <td>0.004115</td>\n",
       "      <td>0.025304</td>\n",
       "      <td>0.011858</td>\n",
       "      <td>0.400593</td>\n",
       "      <td>0.431793</td>\n",
       "    </tr>\n",
       "    <tr>\n",
       "      <th>4</th>\n",
       "      <td>19223</td>\n",
       "      <td>0.006685</td>\n",
       "      <td>0.004976</td>\n",
       "      <td>0.004588</td>\n",
       "      <td>0.028373</td>\n",
       "      <td>0.007120</td>\n",
       "      <td>0.613747</td>\n",
       "      <td>0.338381</td>\n",
       "    </tr>\n",
       "  </tbody>\n",
       "</table>\n",
       "</div>"
      ],
      "text/plain": [
       "      id    Pastry  Z_Scratch  K_Scatch    Stains  Dirtiness     Bumps  \\\n",
       "0  19219  0.496132   0.003192  0.006726  0.019481   0.017171  0.136127   \n",
       "1  19220  0.257812   0.022915  0.015582  0.024177   0.171033  0.149404   \n",
       "2  19221  0.005099   0.035220  0.042575  0.027299   0.008078  0.316043   \n",
       "3  19222  0.114418   0.005752  0.004115  0.025304   0.011858  0.400593   \n",
       "4  19223  0.006685   0.004976  0.004588  0.028373   0.007120  0.613747   \n",
       "\n",
       "   Other_Faults  \n",
       "0      0.334557  \n",
       "1      0.350470  \n",
       "2      0.536475  \n",
       "3      0.431793  \n",
       "4      0.338381  "
      ]
     },
     "execution_count": 15,
     "metadata": {},
     "output_type": "execute_result"
    }
   ],
   "source": [
    "submission.head()"
   ]
  },
  {
   "cell_type": "code",
   "execution_count": null,
   "id": "f6a4b925",
   "metadata": {
    "papermill": {
     "duration": 0.006483,
     "end_time": "2024-03-07T14:49:23.414890",
     "exception": false,
     "start_time": "2024-03-07T14:49:23.408407",
     "status": "completed"
    },
    "tags": []
   },
   "outputs": [],
   "source": []
  }
 ],
 "metadata": {
  "kaggle": {
   "accelerator": "gpu",
   "dataSources": [
    {
     "databundleVersionId": 7659021,
     "sourceId": 68699,
     "sourceType": "competition"
    },
    {
     "datasetId": 4531275,
     "sourceId": 7750454,
     "sourceType": "datasetVersion"
    },
    {
     "sourceId": 165495515,
     "sourceType": "kernelVersion"
    },
    {
     "sourceId": 165511211,
     "sourceType": "kernelVersion"
    }
   ],
   "dockerImageVersionId": 30664,
   "isGpuEnabled": true,
   "isInternetEnabled": false,
   "language": "python",
   "sourceType": "notebook"
  },
  "kernelspec": {
   "display_name": "Python 3",
   "language": "python",
   "name": "python3"
  },
  "language_info": {
   "codemirror_mode": {
    "name": "ipython",
    "version": 3
   },
   "file_extension": ".py",
   "mimetype": "text/x-python",
   "name": "python",
   "nbconvert_exporter": "python",
   "pygments_lexer": "ipython3",
   "version": "3.10.13"
  },
  "papermill": {
   "default_parameters": {},
   "duration": 239.299358,
   "end_time": "2024-03-07T14:49:26.451465",
   "environment_variables": {},
   "exception": null,
   "input_path": "__notebook__.ipynb",
   "output_path": "__notebook__.ipynb",
   "parameters": {},
   "start_time": "2024-03-07T14:45:27.152107",
   "version": "2.5.0"
  }
 },
 "nbformat": 4,
 "nbformat_minor": 5
}
